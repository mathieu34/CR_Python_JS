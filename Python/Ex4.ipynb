{
 "cells": [
  {
   "cell_type": "code",
   "execution_count": 43,
   "metadata": {},
   "outputs": [
    {
     "name": "stdout",
     "output_type": "stream",
     "text": [
      "0\n"
     ]
    }
   ],
   "source": [
    "import numpy as np \n",
    "tab2d=np.array([0,1,2,3, 4])\n",
    "impaire = []\n",
    "def sommeImpairs(tab2d):\n",
    "    for nombre in tab2d :\n",
    "        if(nombre%2 != 0):\n",
    "            impaire.append(nombre)\n",
    "somme_impairs=sum(impaire)\n",
    "print (somme_impairs)\n",
    "    "
   ]
  },
  {
   "cell_type": "code",
   "execution_count": 102,
   "metadata": {},
   "outputs": [
    {
     "data": {
      "text/plain": [
       "array([1, 5, 9])"
      ]
     },
     "execution_count": 102,
     "metadata": {},
     "output_type": "execute_result"
    }
   ],
   "source": [
    "import matplotlib.pyplot as plt\n",
    "import numpy as np \n",
    "a=[[1,2,3],[4,5,6],[7,8,9]]\n",
    "A=np.array(a)\n",
    "np.diagonal(A)"
   ]
  },
  {
   "cell_type": "code",
   "execution_count": 139,
   "metadata": {},
   "outputs": [
    {
     "data": {
      "text/plain": [
       "array([6, 6, 6, 8])"
      ]
     },
     "execution_count": 139,
     "metadata": {},
     "output_type": "execute_result"
    }
   ],
   "source": [
    "nb_diag = np.diagonal(A)\n",
    "nb_diag"
   ]
  },
  {
   "cell_type": "code",
   "execution_count": 134,
   "metadata": {},
   "outputs": [
    {
     "ename": "SyntaxError",
     "evalue": "invalid syntax (<ipython-input-134-7ba795cb4b97>, line 13)",
     "output_type": "error",
     "traceback": [
      "\u001b[1;36m  File \u001b[1;32m\"<ipython-input-134-7ba795cb4b97>\"\u001b[1;36m, line \u001b[1;32m13\u001b[0m\n\u001b[1;33m    for av_max==m :\u001b[0m\n\u001b[1;37m               ^\u001b[0m\n\u001b[1;31mSyntaxError\u001b[0m\u001b[1;31m:\u001b[0m invalid syntax\n"
     ]
    }
   ],
   "source": [
    "a=[[6,2,3,5],[4,6,2,6],[1,3,6,7],[3,6,3,8],[6,0,1,4]]\n",
    "A=np.array(a)\n",
    "colonne=[A[:,0],A[:,1],A[:,2],A[:,3]]\n",
    "colonne\n",
    "moyennes=[]\n",
    "def moyenne(colonne):\n",
    "    moyenne = somme/5\n",
    "    for values in colonne : \n",
    "       somme = sum (values)\n",
    "m = max(moyenne)\n",
    "av_max=0\n",
    "while av_max=m : \n",
    "    av_max=moyennes[i]\n",
    "    i=i+1\n",
    "    print (av_max);\n"
   ]
  },
  {
   "cell_type": "code",
   "execution_count": 135,
   "metadata": {},
   "outputs": [
    {
     "data": {
      "text/plain": [
       "0"
      ]
     },
     "execution_count": 135,
     "metadata": {},
     "output_type": "execute_result"
    }
   ],
   "source": [
    "\n"
   ]
  }
 ],
 "metadata": {
  "kernelspec": {
   "display_name": "Python 3",
   "language": "python",
   "name": "python3"
  },
  "language_info": {
   "codemirror_mode": {
    "name": "ipython",
    "version": 3
   },
   "file_extension": ".py",
   "mimetype": "text/x-python",
   "name": "python",
   "nbconvert_exporter": "python",
   "pygments_lexer": "ipython3",
   "version": "3.7.0"
  }
 },
 "nbformat": 4,
 "nbformat_minor": 2
}
