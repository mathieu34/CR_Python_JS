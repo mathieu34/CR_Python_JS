{
 "cells": [
  {
   "cell_type": "code",
   "execution_count": null,
   "metadata": {
    "scrolled": false
   },
   "outputs": [],
   "source": [
    "a = float(input (\"1ere note de l'étudiant : \"))\n",
    "b = float(input (\"2eme note de l'étudiant : \"))\n",
    "c = float(input (\"3eme note de l'étudiant : \"))\n",
    "d = float(input (\"4eme note de l'étudiant : \"))\n",
    "e = float(input (\"5eme note de l'étudiant : \"))\n",
    "somme=[a,b,c,d,e]\n",
    "moyenne = sum (somme)//5.0\n",
    "print(moyenne)"
   ]
  },
  {
   "cell_type": "code",
   "execution_count": 4,
   "metadata": {},
   "outputs": [
    {
     "name": "stdout",
     "output_type": "stream",
     "text": [
      "1ere note de l'étudiant : 2.2\n",
      "2eme note de l'étudiant : 3\n",
      "3eme note de l'étudiant : 2\n",
      "4eme note de l'étudiant : 5\n",
      "5eme note de l'étudiant : 2\n"
     ]
    },
    {
     "data": {
      "text/plain": [
       "2.84"
      ]
     },
     "execution_count": 4,
     "metadata": {},
     "output_type": "execute_result"
    }
   ],
   "source": [
    "a = float(input (\"1ere note de l'étudiant : \"))\n",
    "b = float(input (\"2eme note de l'étudiant : \"))\n",
    "c = float(input (\"3eme note de l'étudiant : \"))\n",
    "d = float(input (\"4eme note de l'étudiant : \"))\n",
    "e = float(input (\"5eme note de l'étudiant : \"))\n",
    "somme=[a,b,c,d,e]\n",
    "moyenne = sum (somme)/5\n",
    "moyenne\n",
    "print(moyenne)\n",
    "reponse=input (\"Voulez vous continuer : oui ou non ?\")\n",
    "while reponse==\"oui\" :\n",
    "    a = float(input (\"1ere note de l'étudiant : \"))\n",
    "    b = float(input (\"2eme note de l'étudiant : \"))\n",
    "    c = float(input (\"3eme note de l'étudiant : \"))\n",
    "    d = float(input (\"4eme note de l'étudiant : \"))\n",
    "    e = float(input (\"5eme note de l'étudiant : \"))\n",
    "    somme=[a,b,c,d,e]\n",
    "    moyenne = sum (somme)/5\n",
    "    print(moyenne)\n",
    "    input (\"Voulez vous continuer : oui ou non ?\")\n",
    "    if reponse==\"non\" :\n",
    "        break"
   ]
  }
 ],
 "metadata": {
  "kernelspec": {
   "display_name": "Python 3",
   "language": "python",
   "name": "python3"
  },
  "language_info": {
   "codemirror_mode": {
    "name": "ipython",
    "version": 3
   },
   "file_extension": ".py",
   "mimetype": "text/x-python",
   "name": "python",
   "nbconvert_exporter": "python",
   "pygments_lexer": "ipython3",
   "version": "3.7.0"
  }
 },
 "nbformat": 4,
 "nbformat_minor": 2
}
